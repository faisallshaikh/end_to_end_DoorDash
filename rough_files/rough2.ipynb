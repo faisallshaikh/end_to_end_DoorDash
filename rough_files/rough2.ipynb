{
 "cells": [
  {
   "cell_type": "code",
   "execution_count": 1,
   "metadata": {},
   "outputs": [],
   "source": [
    "import pandas as pd\n",
    "import numpy as np\n",
    "# import sklearn\n",
    "# import matplotlib.pyplot as plt \n",
    "# import seaborn as sns\n",
    "# sklearn.set_config(transform_output=\"pandas\")"
   ]
  },
  {
   "cell_type": "code",
   "execution_count": 2,
   "metadata": {},
   "outputs": [
    {
     "data": {
      "text/plain": [
       "'sklearn.set_config(transform_output=\"pandas\")\\nwe usually get the encoded data in numpy arrays and it will cause problems \\nwhen we use category encoders, so for category encoders and sklearn pipeline to be compatible \\nwe set sklearn transform output to pandas instead of getting it in numpy arrays form\\n'"
      ]
     },
     "execution_count": 2,
     "metadata": {},
     "output_type": "execute_result"
    }
   ],
   "source": [
    "\"\"\"sklearn.set_config(transform_output=\"pandas\")\n",
    "we usually get the encoded data in numpy arrays and it will cause problems \n",
    "when we use category encoders, so for category encoders and sklearn pipeline to be compatible \n",
    "we set sklearn transform output to pandas instead of getting it in numpy arrays form\n",
    "\"\"\"\n"
   ]
  },
  {
   "cell_type": "code",
   "execution_count": 3,
   "metadata": {},
   "outputs": [
    {
     "name": "stdout",
     "output_type": "stream",
     "text": [
      "['blue', 'red', 'green', 'blue', 'green', 'green', 'blue']\n"
     ]
    },
    {
     "data": {
      "text/plain": [
       "['a', 'b', 'b', 'a', 'a', 'c', 'b']"
      ]
     },
     "execution_count": 3,
     "metadata": {},
     "output_type": "execute_result"
    }
   ],
   "source": [
    "l = \"blue red green blue green green blue\".split()\n",
    "print(l)\n",
    "ll = \"a b b a a c b\".split()\n",
    "ll"
   ]
  },
  {
   "cell_type": "code",
   "execution_count": 4,
   "metadata": {},
   "outputs": [
    {
     "data": {
      "text/html": [
       "<div>\n",
       "<style scoped>\n",
       "    .dataframe tbody tr th:only-of-type {\n",
       "        vertical-align: middle;\n",
       "    }\n",
       "\n",
       "    .dataframe tbody tr th {\n",
       "        vertical-align: top;\n",
       "    }\n",
       "\n",
       "    .dataframe thead th {\n",
       "        text-align: right;\n",
       "    }\n",
       "</style>\n",
       "<table border=\"1\" class=\"dataframe\">\n",
       "  <thead>\n",
       "    <tr style=\"text-align: right;\">\n",
       "      <th></th>\n",
       "      <th>fav_color</th>\n",
       "      <th>height</th>\n",
       "      <th>cat_col</th>\n",
       "      <th>target_var</th>\n",
       "    </tr>\n",
       "  </thead>\n",
       "  <tbody>\n",
       "    <tr>\n",
       "      <th>0</th>\n",
       "      <td>blue</td>\n",
       "      <td>1.77</td>\n",
       "      <td>a</td>\n",
       "      <td>1</td>\n",
       "    </tr>\n",
       "    <tr>\n",
       "      <th>1</th>\n",
       "      <td>red</td>\n",
       "      <td>1.32</td>\n",
       "      <td>b</td>\n",
       "      <td>0</td>\n",
       "    </tr>\n",
       "    <tr>\n",
       "      <th>2</th>\n",
       "      <td>green</td>\n",
       "      <td>1.81</td>\n",
       "      <td>b</td>\n",
       "      <td>1</td>\n",
       "    </tr>\n",
       "    <tr>\n",
       "      <th>3</th>\n",
       "      <td>blue</td>\n",
       "      <td>1.56</td>\n",
       "      <td>a</td>\n",
       "      <td>0</td>\n",
       "    </tr>\n",
       "    <tr>\n",
       "      <th>4</th>\n",
       "      <td>green</td>\n",
       "      <td>1.64</td>\n",
       "      <td>a</td>\n",
       "      <td>1</td>\n",
       "    </tr>\n",
       "    <tr>\n",
       "      <th>5</th>\n",
       "      <td>green</td>\n",
       "      <td>1.61</td>\n",
       "      <td>c</td>\n",
       "      <td>0</td>\n",
       "    </tr>\n",
       "    <tr>\n",
       "      <th>6</th>\n",
       "      <td>blue</td>\n",
       "      <td>1.73</td>\n",
       "      <td>b</td>\n",
       "      <td>0</td>\n",
       "    </tr>\n",
       "  </tbody>\n",
       "</table>\n",
       "</div>"
      ],
      "text/plain": [
       "  fav_color  height cat_col  target_var\n",
       "0      blue    1.77       a           1\n",
       "1       red    1.32       b           0\n",
       "2     green    1.81       b           1\n",
       "3      blue    1.56       a           0\n",
       "4     green    1.64       a           1\n",
       "5     green    1.61       c           0\n",
       "6      blue    1.73       b           0"
      ]
     },
     "execution_count": 4,
     "metadata": {},
     "output_type": "execute_result"
    }
   ],
   "source": [
    "data = {\n",
    "    \"fav_color\": l,\n",
    "    \"height\" : [1.77,1.32,1.81,1.56,1.64,1.61,1.73],\n",
    "    \"cat_col\" : ll,\n",
    "    \"target_var\" : [1,0,1,0,1,0,0]\n",
    "}\n",
    "\n",
    "df = pd.DataFrame(data)\n",
    "df"
   ]
  },
  {
   "cell_type": "code",
   "execution_count": 5,
   "metadata": {},
   "outputs": [
    {
     "data": {
      "text/plain": [
       "(7,)"
      ]
     },
     "execution_count": 5,
     "metadata": {},
     "output_type": "execute_result"
    }
   ],
   "source": [
    "df[\"target_var\"].shape"
   ]
  },
  {
   "cell_type": "code",
   "execution_count": 6,
   "metadata": {},
   "outputs": [
    {
     "data": {
      "text/plain": [
       "(7, 1)"
      ]
     },
     "execution_count": 6,
     "metadata": {},
     "output_type": "execute_result"
    }
   ],
   "source": [
    "df[[\"target_var\"]].shape"
   ]
  },
  {
   "cell_type": "code",
   "execution_count": 7,
   "metadata": {},
   "outputs": [
    {
     "data": {
      "text/plain": [
       "array([[0.5       ],\n",
       "       [0.33333333],\n",
       "       [0.33333333],\n",
       "       [0.5       ],\n",
       "       [0.33333333],\n",
       "       [0.33333333],\n",
       "       [0.5       ]])"
      ]
     },
     "execution_count": 7,
     "metadata": {},
     "output_type": "execute_result"
    }
   ],
   "source": [
    "from sklearn.preprocessing import TargetEncoder\n",
    "t = TargetEncoder(cv=2)\n",
    "t1 = t.fit_transform(df[[\"fav_color\"]], df[\"target_var\"])\n",
    "t1\n",
    "# np.array(t1).round(3)"
   ]
  },
  {
   "cell_type": "code",
   "execution_count": 8,
   "metadata": {},
   "outputs": [
    {
     "data": {
      "text/plain": [
       "array([[0.22222222],\n",
       "       [0.33333333],\n",
       "       [0.41666667],\n",
       "       [0.22222222],\n",
       "       [0.66666667],\n",
       "       [0.66666667],\n",
       "       [0.5       ]])"
      ]
     },
     "execution_count": 8,
     "metadata": {},
     "output_type": "execute_result"
    }
   ],
   "source": [
    "tt = TargetEncoder(cv=2,smooth=2,shuffle=False)\n",
    "tt1 = tt.fit_transform(df[[\"fav_color\"]], df[\"target_var\"])\n",
    "tt1"
   ]
  },
  {
   "cell_type": "code",
   "execution_count": 16,
   "metadata": {},
   "outputs": [],
   "source": [
    "from category_encoders import BaseNEncoder"
   ]
  },
  {
   "cell_type": "code",
   "execution_count": 17,
   "metadata": {},
   "outputs": [
    {
     "data": {
      "text/plain": [
       "array([[0.22222222, 0.        , 1.        , 1.77      , 1.        ],\n",
       "       [0.33333333, 1.        , 0.        , 1.32      , 0.        ],\n",
       "       [0.41666667, 1.        , 0.        , 1.81      , 1.        ],\n",
       "       [0.22222222, 0.        , 1.        , 1.56      , 0.        ],\n",
       "       [0.66666667, 0.        , 1.        , 1.64      , 1.        ],\n",
       "       [0.66666667, 1.        , 1.        , 1.61      , 0.        ],\n",
       "       [0.5       , 1.        , 0.        , 1.73      , 0.        ]])"
      ]
     },
     "execution_count": 17,
     "metadata": {},
     "output_type": "execute_result"
    }
   ],
   "source": [
    "from sklearn.compose import ColumnTransformer\n",
    "from sklearn.pipeline import Pipeline\n",
    "from sklearn.preprocessing import TargetEncoder,OneHotEncoder\n",
    "\n",
    "t_feature = [\"fav_color\"]\n",
    "t_imputer = Pipeline(steps=[\n",
    "    (\"encoding\", TargetEncoder(cv=2,smooth=2,shuffle=False))\n",
    "])\n",
    "\n",
    "cat_feature = [\"cat_col\"]\n",
    "cat_imputer = Pipeline(steps=[\n",
    "    (\"Base_N\",BaseNEncoder(base=2))\n",
    "])\n",
    "\n",
    "preprocessor = ColumnTransformer(transformers=[\n",
    "    (\"encoding\", t_imputer,t_feature),\n",
    "    (\"one_hot\", cat_imputer,cat_feature)\n",
    "],remainder=\"passthrough\")\n",
    "\n",
    "transformed_data = preprocessor.fit_transform(df,df[\"target_var\"])\n",
    "transformed_data\n"
   ]
  },
  {
   "cell_type": "code",
   "execution_count": 18,
   "metadata": {},
   "outputs": [
    {
     "data": {
      "text/html": [
       "<div>\n",
       "<style scoped>\n",
       "    .dataframe tbody tr th:only-of-type {\n",
       "        vertical-align: middle;\n",
       "    }\n",
       "\n",
       "    .dataframe tbody tr th {\n",
       "        vertical-align: top;\n",
       "    }\n",
       "\n",
       "    .dataframe thead th {\n",
       "        text-align: right;\n",
       "    }\n",
       "</style>\n",
       "<table border=\"1\" class=\"dataframe\">\n",
       "  <thead>\n",
       "    <tr style=\"text-align: right;\">\n",
       "      <th></th>\n",
       "      <th>0</th>\n",
       "      <th>1</th>\n",
       "      <th>2</th>\n",
       "      <th>3</th>\n",
       "      <th>4</th>\n",
       "    </tr>\n",
       "  </thead>\n",
       "  <tbody>\n",
       "    <tr>\n",
       "      <th>0</th>\n",
       "      <td>0.222222</td>\n",
       "      <td>0.0</td>\n",
       "      <td>1.0</td>\n",
       "      <td>1.77</td>\n",
       "      <td>1.0</td>\n",
       "    </tr>\n",
       "    <tr>\n",
       "      <th>1</th>\n",
       "      <td>0.333333</td>\n",
       "      <td>1.0</td>\n",
       "      <td>0.0</td>\n",
       "      <td>1.32</td>\n",
       "      <td>0.0</td>\n",
       "    </tr>\n",
       "    <tr>\n",
       "      <th>2</th>\n",
       "      <td>0.416667</td>\n",
       "      <td>1.0</td>\n",
       "      <td>0.0</td>\n",
       "      <td>1.81</td>\n",
       "      <td>1.0</td>\n",
       "    </tr>\n",
       "    <tr>\n",
       "      <th>3</th>\n",
       "      <td>0.222222</td>\n",
       "      <td>0.0</td>\n",
       "      <td>1.0</td>\n",
       "      <td>1.56</td>\n",
       "      <td>0.0</td>\n",
       "    </tr>\n",
       "    <tr>\n",
       "      <th>4</th>\n",
       "      <td>0.666667</td>\n",
       "      <td>0.0</td>\n",
       "      <td>1.0</td>\n",
       "      <td>1.64</td>\n",
       "      <td>1.0</td>\n",
       "    </tr>\n",
       "    <tr>\n",
       "      <th>5</th>\n",
       "      <td>0.666667</td>\n",
       "      <td>1.0</td>\n",
       "      <td>1.0</td>\n",
       "      <td>1.61</td>\n",
       "      <td>0.0</td>\n",
       "    </tr>\n",
       "    <tr>\n",
       "      <th>6</th>\n",
       "      <td>0.500000</td>\n",
       "      <td>1.0</td>\n",
       "      <td>0.0</td>\n",
       "      <td>1.73</td>\n",
       "      <td>0.0</td>\n",
       "    </tr>\n",
       "  </tbody>\n",
       "</table>\n",
       "</div>"
      ],
      "text/plain": [
       "          0    1    2     3    4\n",
       "0  0.222222  0.0  1.0  1.77  1.0\n",
       "1  0.333333  1.0  0.0  1.32  0.0\n",
       "2  0.416667  1.0  0.0  1.81  1.0\n",
       "3  0.222222  0.0  1.0  1.56  0.0\n",
       "4  0.666667  0.0  1.0  1.64  1.0\n",
       "5  0.666667  1.0  1.0  1.61  0.0\n",
       "6  0.500000  1.0  0.0  1.73  0.0"
      ]
     },
     "execution_count": 18,
     "metadata": {},
     "output_type": "execute_result"
    }
   ],
   "source": [
    "pd.DataFrame(transformed_data)\n"
   ]
  },
  {
   "cell_type": "code",
   "execution_count": 11,
   "metadata": {},
   "outputs": [
    {
     "data": {
      "text/html": [
       "<div>\n",
       "<style scoped>\n",
       "    .dataframe tbody tr th:only-of-type {\n",
       "        vertical-align: middle;\n",
       "    }\n",
       "\n",
       "    .dataframe tbody tr th {\n",
       "        vertical-align: top;\n",
       "    }\n",
       "\n",
       "    .dataframe thead th {\n",
       "        text-align: right;\n",
       "    }\n",
       "</style>\n",
       "<table border=\"1\" class=\"dataframe\">\n",
       "  <thead>\n",
       "    <tr style=\"text-align: right;\">\n",
       "      <th></th>\n",
       "      <th>T1</th>\n",
       "      <th>T2</th>\n",
       "    </tr>\n",
       "  </thead>\n",
       "  <tbody>\n",
       "    <tr>\n",
       "      <th>0</th>\n",
       "      <td>0.500000</td>\n",
       "      <td>0.222222</td>\n",
       "    </tr>\n",
       "    <tr>\n",
       "      <th>1</th>\n",
       "      <td>0.333333</td>\n",
       "      <td>0.333333</td>\n",
       "    </tr>\n",
       "    <tr>\n",
       "      <th>2</th>\n",
       "      <td>0.333333</td>\n",
       "      <td>0.416667</td>\n",
       "    </tr>\n",
       "    <tr>\n",
       "      <th>3</th>\n",
       "      <td>0.500000</td>\n",
       "      <td>0.222222</td>\n",
       "    </tr>\n",
       "    <tr>\n",
       "      <th>4</th>\n",
       "      <td>0.333333</td>\n",
       "      <td>0.666667</td>\n",
       "    </tr>\n",
       "    <tr>\n",
       "      <th>5</th>\n",
       "      <td>0.333333</td>\n",
       "      <td>0.666667</td>\n",
       "    </tr>\n",
       "    <tr>\n",
       "      <th>6</th>\n",
       "      <td>0.500000</td>\n",
       "      <td>0.500000</td>\n",
       "    </tr>\n",
       "  </tbody>\n",
       "</table>\n",
       "</div>"
      ],
      "text/plain": [
       "         T1        T2\n",
       "0  0.500000  0.222222\n",
       "1  0.333333  0.333333\n",
       "2  0.333333  0.416667\n",
       "3  0.500000  0.222222\n",
       "4  0.333333  0.666667\n",
       "5  0.333333  0.666667\n",
       "6  0.500000  0.500000"
      ]
     },
     "execution_count": 11,
     "metadata": {},
     "output_type": "execute_result"
    }
   ],
   "source": [
    "pd.DataFrame({\"T1\" : t1.ravel(), \"T2\" : tt1.ravel()})"
   ]
  },
  {
   "cell_type": "markdown",
   "metadata": {},
   "source": [
    "# BaseN Encoding"
   ]
  },
  {
   "cell_type": "code",
   "execution_count": 12,
   "metadata": {},
   "outputs": [
    {
     "data": {
      "text/html": [
       "<div>\n",
       "<style scoped>\n",
       "    .dataframe tbody tr th:only-of-type {\n",
       "        vertical-align: middle;\n",
       "    }\n",
       "\n",
       "    .dataframe tbody tr th {\n",
       "        vertical-align: top;\n",
       "    }\n",
       "\n",
       "    .dataframe thead th {\n",
       "        text-align: right;\n",
       "    }\n",
       "</style>\n",
       "<table border=\"1\" class=\"dataframe\">\n",
       "  <thead>\n",
       "    <tr style=\"text-align: right;\">\n",
       "      <th></th>\n",
       "      <th>city_0</th>\n",
       "      <th>city_1</th>\n",
       "      <th>city_2</th>\n",
       "      <th>city_3</th>\n",
       "      <th>city_4</th>\n",
       "      <th>city_5</th>\n",
       "      <th>city_6</th>\n",
       "    </tr>\n",
       "  </thead>\n",
       "  <tbody>\n",
       "    <tr>\n",
       "      <th>0</th>\n",
       "      <td>0</td>\n",
       "      <td>1</td>\n",
       "      <td>0</td>\n",
       "      <td>0</td>\n",
       "      <td>0</td>\n",
       "      <td>0</td>\n",
       "      <td>0</td>\n",
       "    </tr>\n",
       "    <tr>\n",
       "      <th>1</th>\n",
       "      <td>0</td>\n",
       "      <td>0</td>\n",
       "      <td>1</td>\n",
       "      <td>0</td>\n",
       "      <td>0</td>\n",
       "      <td>0</td>\n",
       "      <td>0</td>\n",
       "    </tr>\n",
       "    <tr>\n",
       "      <th>2</th>\n",
       "      <td>0</td>\n",
       "      <td>0</td>\n",
       "      <td>0</td>\n",
       "      <td>1</td>\n",
       "      <td>0</td>\n",
       "      <td>0</td>\n",
       "      <td>0</td>\n",
       "    </tr>\n",
       "    <tr>\n",
       "      <th>3</th>\n",
       "      <td>0</td>\n",
       "      <td>0</td>\n",
       "      <td>0</td>\n",
       "      <td>0</td>\n",
       "      <td>1</td>\n",
       "      <td>0</td>\n",
       "      <td>0</td>\n",
       "    </tr>\n",
       "    <tr>\n",
       "      <th>4</th>\n",
       "      <td>0</td>\n",
       "      <td>0</td>\n",
       "      <td>0</td>\n",
       "      <td>0</td>\n",
       "      <td>0</td>\n",
       "      <td>1</td>\n",
       "      <td>0</td>\n",
       "    </tr>\n",
       "    <tr>\n",
       "      <th>5</th>\n",
       "      <td>0</td>\n",
       "      <td>1</td>\n",
       "      <td>0</td>\n",
       "      <td>0</td>\n",
       "      <td>0</td>\n",
       "      <td>0</td>\n",
       "      <td>0</td>\n",
       "    </tr>\n",
       "    <tr>\n",
       "      <th>6</th>\n",
       "      <td>0</td>\n",
       "      <td>0</td>\n",
       "      <td>0</td>\n",
       "      <td>1</td>\n",
       "      <td>0</td>\n",
       "      <td>0</td>\n",
       "      <td>0</td>\n",
       "    </tr>\n",
       "    <tr>\n",
       "      <th>7</th>\n",
       "      <td>0</td>\n",
       "      <td>0</td>\n",
       "      <td>1</td>\n",
       "      <td>0</td>\n",
       "      <td>0</td>\n",
       "      <td>0</td>\n",
       "      <td>0</td>\n",
       "    </tr>\n",
       "    <tr>\n",
       "      <th>8</th>\n",
       "      <td>0</td>\n",
       "      <td>0</td>\n",
       "      <td>0</td>\n",
       "      <td>0</td>\n",
       "      <td>0</td>\n",
       "      <td>0</td>\n",
       "      <td>1</td>\n",
       "    </tr>\n",
       "  </tbody>\n",
       "</table>\n",
       "</div>"
      ],
      "text/plain": [
       "   city_0  city_1  city_2  city_3  city_4  city_5  city_6\n",
       "0       0       1       0       0       0       0       0\n",
       "1       0       0       1       0       0       0       0\n",
       "2       0       0       0       1       0       0       0\n",
       "3       0       0       0       0       1       0       0\n",
       "4       0       0       0       0       0       1       0\n",
       "5       0       1       0       0       0       0       0\n",
       "6       0       0       0       1       0       0       0\n",
       "7       0       0       1       0       0       0       0\n",
       "8       0       0       0       0       0       0       1"
      ]
     },
     "execution_count": 12,
     "metadata": {},
     "output_type": "execute_result"
    }
   ],
   "source": [
    "import category_encoders as ce\n",
    "import pandas as pd\n",
    "\n",
    "#Create the dataframe\n",
    "data=pd.DataFrame({'city':['Delhi','Mumbai','Hyderabad','Chennai','Bangalore','Delhi','Hyderabad','Mumbai','Agra']})\n",
    "\n",
    "#Create an object for Base N Encoding\n",
    "encoder= ce.BaseNEncoder(cols=['city'],return_df=True,base=1)\n",
    "\n",
    "#Original Data\n",
    "enc = encoder.fit_transform(data)\n",
    "enc\n"
   ]
  },
  {
   "cell_type": "code",
   "execution_count": 13,
   "metadata": {},
   "outputs": [
    {
     "data": {
      "text/plain": [
       "array([[0, 1, 0, 0, 0, 0, 0],\n",
       "       [0, 0, 1, 0, 0, 0, 0],\n",
       "       [0, 0, 0, 1, 0, 0, 0],\n",
       "       [0, 0, 0, 0, 1, 0, 0],\n",
       "       [0, 0, 0, 0, 0, 1, 0],\n",
       "       [0, 1, 0, 0, 0, 0, 0],\n",
       "       [0, 0, 0, 1, 0, 0, 0],\n",
       "       [0, 0, 1, 0, 0, 0, 0],\n",
       "       [0, 0, 0, 0, 0, 0, 1]], dtype=int64)"
      ]
     },
     "execution_count": 13,
     "metadata": {},
     "output_type": "execute_result"
    }
   ],
   "source": [
    "np.array(enc)"
   ]
  },
  {
   "cell_type": "code",
   "execution_count": 14,
   "metadata": {},
   "outputs": [
    {
     "data": {
      "text/html": [
       "<div>\n",
       "<style scoped>\n",
       "    .dataframe tbody tr th:only-of-type {\n",
       "        vertical-align: middle;\n",
       "    }\n",
       "\n",
       "    .dataframe tbody tr th {\n",
       "        vertical-align: top;\n",
       "    }\n",
       "\n",
       "    .dataframe thead th {\n",
       "        text-align: right;\n",
       "    }\n",
       "</style>\n",
       "<table border=\"1\" class=\"dataframe\">\n",
       "  <thead>\n",
       "    <tr style=\"text-align: right;\">\n",
       "      <th></th>\n",
       "      <th>city_0</th>\n",
       "      <th>city_1</th>\n",
       "      <th>city_2</th>\n",
       "    </tr>\n",
       "  </thead>\n",
       "  <tbody>\n",
       "    <tr>\n",
       "      <th>0</th>\n",
       "      <td>0</td>\n",
       "      <td>0</td>\n",
       "      <td>1</td>\n",
       "    </tr>\n",
       "    <tr>\n",
       "      <th>1</th>\n",
       "      <td>0</td>\n",
       "      <td>1</td>\n",
       "      <td>0</td>\n",
       "    </tr>\n",
       "    <tr>\n",
       "      <th>2</th>\n",
       "      <td>0</td>\n",
       "      <td>1</td>\n",
       "      <td>1</td>\n",
       "    </tr>\n",
       "    <tr>\n",
       "      <th>3</th>\n",
       "      <td>1</td>\n",
       "      <td>0</td>\n",
       "      <td>0</td>\n",
       "    </tr>\n",
       "    <tr>\n",
       "      <th>4</th>\n",
       "      <td>1</td>\n",
       "      <td>0</td>\n",
       "      <td>1</td>\n",
       "    </tr>\n",
       "    <tr>\n",
       "      <th>5</th>\n",
       "      <td>0</td>\n",
       "      <td>0</td>\n",
       "      <td>1</td>\n",
       "    </tr>\n",
       "    <tr>\n",
       "      <th>6</th>\n",
       "      <td>0</td>\n",
       "      <td>1</td>\n",
       "      <td>1</td>\n",
       "    </tr>\n",
       "    <tr>\n",
       "      <th>7</th>\n",
       "      <td>0</td>\n",
       "      <td>1</td>\n",
       "      <td>0</td>\n",
       "    </tr>\n",
       "    <tr>\n",
       "      <th>8</th>\n",
       "      <td>1</td>\n",
       "      <td>1</td>\n",
       "      <td>0</td>\n",
       "    </tr>\n",
       "  </tbody>\n",
       "</table>\n",
       "</div>"
      ],
      "text/plain": [
       "   city_0  city_1  city_2\n",
       "0       0       0       1\n",
       "1       0       1       0\n",
       "2       0       1       1\n",
       "3       1       0       0\n",
       "4       1       0       1\n",
       "5       0       0       1\n",
       "6       0       1       1\n",
       "7       0       1       0\n",
       "8       1       1       0"
      ]
     },
     "execution_count": 14,
     "metadata": {},
     "output_type": "execute_result"
    }
   ],
   "source": [
    "# now setting base to diff values\n",
    "from category_encoders import BaseNEncoder\n",
    "bs = BaseNEncoder(cols=[\"city\"],base=2)\n",
    "# if we dont provide cols in BaseN encoder then it will take all non numeric features \n",
    "# and convert it into numeric \n",
    "# If the cols parameter isn’t passed, every non-numeric column will be converted.\n",
    "bs.fit_transform(data)"
   ]
  },
  {
   "cell_type": "code",
   "execution_count": 15,
   "metadata": {},
   "outputs": [
    {
     "data": {
      "text/plain": [
       "'Pipeline(\\n    steps=[\\n        (\"preprocessor\", SomePreprocessor().set_output(\"pandas\"),\\n        (\"encoder\", SomeEncoder()),\\n    ]\\n)'"
      ]
     },
     "execution_count": 15,
     "metadata": {},
     "output_type": "execute_result"
    }
   ],
   "source": [
    "\"\"\"All of these are fully compatible sklearn transformers, \n",
    "so they can be used in pipelines or in your existing scripts. \n",
    "If the cols parameter isn't passed, every non-numeric column will be converted. \n",
    "See below for detailed documentation\n",
    "\n",
    "CategoryEncoders internally works with pandas DataFrames as \n",
    "apposed to sklearn which works with numpy arrays. This can cause problems in \n",
    "sklearn versions prior to 1.2.0. In order to ensure full compatibility with \n",
    "sklearn set sklearn to also output DataFrames. This can be done by\"\"\"\n",
    "\n",
    "\"\"\"sklearn.set_config(transform_output=\"pandas\")\"\"\"\n",
    "\n",
    "\"\"\"Pipeline(\n",
    "    steps=[\n",
    "        (\"preprocessor\", SomePreprocessor().set_output(\"pandas\"),\n",
    "        (\"encoder\", SomeEncoder()),\n",
    "    ]\n",
    ")\"\"\""
   ]
  },
  {
   "cell_type": "markdown",
   "metadata": {},
   "source": [
    "# Ordinal Encoding"
   ]
  },
  {
   "cell_type": "code",
   "execution_count": 19,
   "metadata": {},
   "outputs": [
    {
     "data": {
      "text/html": [
       "<div>\n",
       "<style scoped>\n",
       "    .dataframe tbody tr th:only-of-type {\n",
       "        vertical-align: middle;\n",
       "    }\n",
       "\n",
       "    .dataframe tbody tr th {\n",
       "        vertical-align: top;\n",
       "    }\n",
       "\n",
       "    .dataframe thead th {\n",
       "        text-align: right;\n",
       "    }\n",
       "</style>\n",
       "<table border=\"1\" class=\"dataframe\">\n",
       "  <thead>\n",
       "    <tr style=\"text-align: right;\">\n",
       "      <th></th>\n",
       "      <th>city</th>\n",
       "    </tr>\n",
       "  </thead>\n",
       "  <tbody>\n",
       "    <tr>\n",
       "      <th>0</th>\n",
       "      <td>Delhi</td>\n",
       "    </tr>\n",
       "    <tr>\n",
       "      <th>1</th>\n",
       "      <td>Mumbai</td>\n",
       "    </tr>\n",
       "    <tr>\n",
       "      <th>2</th>\n",
       "      <td>Hyderabad</td>\n",
       "    </tr>\n",
       "    <tr>\n",
       "      <th>3</th>\n",
       "      <td>Chennai</td>\n",
       "    </tr>\n",
       "    <tr>\n",
       "      <th>4</th>\n",
       "      <td>Bangalore</td>\n",
       "    </tr>\n",
       "    <tr>\n",
       "      <th>5</th>\n",
       "      <td>Delhi</td>\n",
       "    </tr>\n",
       "    <tr>\n",
       "      <th>6</th>\n",
       "      <td>Hyderabad</td>\n",
       "    </tr>\n",
       "    <tr>\n",
       "      <th>7</th>\n",
       "      <td>Mumbai</td>\n",
       "    </tr>\n",
       "    <tr>\n",
       "      <th>8</th>\n",
       "      <td>Agra</td>\n",
       "    </tr>\n",
       "  </tbody>\n",
       "</table>\n",
       "</div>"
      ],
      "text/plain": [
       "        city\n",
       "0      Delhi\n",
       "1     Mumbai\n",
       "2  Hyderabad\n",
       "3    Chennai\n",
       "4  Bangalore\n",
       "5      Delhi\n",
       "6  Hyderabad\n",
       "7     Mumbai\n",
       "8       Agra"
      ]
     },
     "execution_count": 19,
     "metadata": {},
     "output_type": "execute_result"
    }
   ],
   "source": [
    "data=pd.DataFrame({'city':['Delhi','Mumbai','Hyderabad','Chennai','Bangalore','Delhi','Hyderabad','Mumbai','Agra']})\n",
    "data"
   ]
  },
  {
   "cell_type": "code",
   "execution_count": 28,
   "metadata": {},
   "outputs": [],
   "source": [
    "data[\"mappa\"] = data[\"city\"].map({\"Delhi\" : 1, \"Mumbai\":2})"
   ]
  },
  {
   "cell_type": "code",
   "execution_count": 55,
   "metadata": {},
   "outputs": [
    {
     "data": {
      "text/plain": [
       "{'Delhi': 1,\n",
       " 'Mumbai': 2,\n",
       " 'Hyderabad': 3,\n",
       " 'Chennai': 4,\n",
       " 'Bangalore': 5,\n",
       " 'Agra': 6}"
      ]
     },
     "execution_count": 55,
     "metadata": {},
     "output_type": "execute_result"
    }
   ],
   "source": [
    "ind = {val : index for index, val in enumerate(data[\"city\"].unique(),1)}\n",
    "ind\n",
    "    "
   ]
  },
  {
   "cell_type": "code",
   "execution_count": 56,
   "metadata": {},
   "outputs": [
    {
     "data": {
      "text/html": [
       "<div>\n",
       "<style scoped>\n",
       "    .dataframe tbody tr th:only-of-type {\n",
       "        vertical-align: middle;\n",
       "    }\n",
       "\n",
       "    .dataframe tbody tr th {\n",
       "        vertical-align: top;\n",
       "    }\n",
       "\n",
       "    .dataframe thead th {\n",
       "        text-align: right;\n",
       "    }\n",
       "</style>\n",
       "<table border=\"1\" class=\"dataframe\">\n",
       "  <thead>\n",
       "    <tr style=\"text-align: right;\">\n",
       "      <th></th>\n",
       "      <th>city</th>\n",
       "      <th>mappa</th>\n",
       "    </tr>\n",
       "  </thead>\n",
       "  <tbody>\n",
       "    <tr>\n",
       "      <th>0</th>\n",
       "      <td>Delhi</td>\n",
       "      <td>1</td>\n",
       "    </tr>\n",
       "    <tr>\n",
       "      <th>1</th>\n",
       "      <td>Mumbai</td>\n",
       "      <td>2</td>\n",
       "    </tr>\n",
       "    <tr>\n",
       "      <th>2</th>\n",
       "      <td>Hyderabad</td>\n",
       "      <td>3</td>\n",
       "    </tr>\n",
       "    <tr>\n",
       "      <th>3</th>\n",
       "      <td>Chennai</td>\n",
       "      <td>4</td>\n",
       "    </tr>\n",
       "    <tr>\n",
       "      <th>4</th>\n",
       "      <td>Bangalore</td>\n",
       "      <td>5</td>\n",
       "    </tr>\n",
       "    <tr>\n",
       "      <th>5</th>\n",
       "      <td>Delhi</td>\n",
       "      <td>1</td>\n",
       "    </tr>\n",
       "    <tr>\n",
       "      <th>6</th>\n",
       "      <td>Hyderabad</td>\n",
       "      <td>3</td>\n",
       "    </tr>\n",
       "    <tr>\n",
       "      <th>7</th>\n",
       "      <td>Mumbai</td>\n",
       "      <td>2</td>\n",
       "    </tr>\n",
       "    <tr>\n",
       "      <th>8</th>\n",
       "      <td>Agra</td>\n",
       "      <td>6</td>\n",
       "    </tr>\n",
       "  </tbody>\n",
       "</table>\n",
       "</div>"
      ],
      "text/plain": [
       "        city  mappa\n",
       "0      Delhi      1\n",
       "1     Mumbai      2\n",
       "2  Hyderabad      3\n",
       "3    Chennai      4\n",
       "4  Bangalore      5\n",
       "5      Delhi      1\n",
       "6  Hyderabad      3\n",
       "7     Mumbai      2\n",
       "8       Agra      6"
      ]
     },
     "execution_count": 56,
     "metadata": {},
     "output_type": "execute_result"
    }
   ],
   "source": [
    "data[\"mappa\"] = data[\"city\"].map(ind)\n",
    "data"
   ]
  },
  {
   "cell_type": "code",
   "execution_count": 58,
   "metadata": {},
   "outputs": [],
   "source": [
    "demo = list(ind.keys())"
   ]
  },
  {
   "cell_type": "code",
   "execution_count": 61,
   "metadata": {},
   "outputs": [
    {
     "data": {
      "text/plain": [
       "array([[0.],\n",
       "       [1.],\n",
       "       [2.],\n",
       "       [3.],\n",
       "       [4.],\n",
       "       [0.],\n",
       "       [2.],\n",
       "       [1.],\n",
       "       [5.]])"
      ]
     },
     "execution_count": 61,
     "metadata": {},
     "output_type": "execute_result"
    }
   ],
   "source": [
    "from sklearn.preprocessing import OrdinalEncoder\n",
    "orr = OrdinalEncoder(categories=[demo])\n",
    "orr.fit_transform(data[[\"city\"]]) "
   ]
  },
  {
   "cell_type": "code",
   "execution_count": 54,
   "metadata": {},
   "outputs": [
    {
     "data": {
      "text/plain": [
       "1"
      ]
     },
     "execution_count": 54,
     "metadata": {},
     "output_type": "execute_result"
    }
   ],
   "source": [
    "orr.n_features_in_"
   ]
  },
  {
   "cell_type": "code",
   "execution_count": 46,
   "metadata": {},
   "outputs": [
    {
     "data": {
      "text/plain": [
       "array([[3., 2.],\n",
       "       [2., 1.],\n",
       "       [1., 0.],\n",
       "       [0., 1.]])"
      ]
     },
     "execution_count": 46,
     "metadata": {},
     "output_type": "execute_result"
    }
   ],
   "source": [
    "# Sample dataframe with 2 ordinal categorical columns: 'temp' and 'place'\n",
    "categorical_df = pd.DataFrame({'my_id': ['101', '102', '103', '104'],\n",
    "                               'temp': ['hot', 'warm', 'cool', 'cold'], \n",
    "                               'place': ['third', 'second', 'first', 'second']})\n",
    "\n",
    "# In the 'temp' column, I want 'cold' to be 0, 'cool' to be 1, 'warm' to be 2, and 'hot' to be 3\n",
    "# In the 'place' column, I want 'first' to be 0, 'second' to be 1, and 'third' to be 2\n",
    "temp_categories = ['cold', 'cool', 'warm', 'hot']\n",
    "place_categories = ['first', 'second', 'third']\n",
    "\n",
    "# Now, when you instantiate the encoder, both of these lists go in one big categories list:\n",
    "encoder = OrdinalEncoder(categories=[temp_categories, place_categories])\n",
    "\n",
    "encoder.fit_transform(categorical_df[['temp', 'place']])\n",
    "# >>array([[3., 2.],\n",
    "#          [2., 1.],\n",
    "#          [1., 0.],\n",
    "#          [0., 1.]])"
   ]
  },
  {
   "cell_type": "code",
   "execution_count": 49,
   "metadata": {},
   "outputs": [
    {
     "data": {
      "text/plain": [
       "array([[3., 2.],\n",
       "       [2., 1.],\n",
       "       [1., 0.],\n",
       "       [0., 1.]])"
      ]
     },
     "execution_count": 49,
     "metadata": {},
     "output_type": "execute_result"
    }
   ],
   "source": [
    "temp_categories = ['cold', 'cool', 'warm', 'hot']\n",
    "place_categories = ['first', 'second', 'third']\n",
    "\n",
    "cat_fea = [\"temp\", \"place\"]\n",
    "cat_imputer1 = Pipeline(steps=[\n",
    "    (\"encoding\", OrdinalEncoder(categories=[temp_categories, place_categories]))\n",
    "]) \n",
    "\n",
    "ct = ColumnTransformer(transformers=[\n",
    "    (\"encoding\", cat_imputer1,cat_fea)\n",
    "])\n",
    "\n",
    "ct.fit_transform(categorical_df)"
   ]
  },
  {
   "cell_type": "markdown",
   "metadata": {},
   "source": [
    "# Plotting "
   ]
  },
  {
   "cell_type": "code",
   "execution_count": 3,
   "metadata": {},
   "outputs": [],
   "source": [
    "import pandas as pd\n",
    "import matplotlib.pyplot as plt\n",
    "import numpy as np\n",
    "\n",
    "np.random.seed(2022)  # creates a consistent sample\n",
    "y = np.random.rand(10,4)\n",
    "y[:,0]= np.arange(10)\n",
    "df = pd.DataFrame(y, columns=[\"X\", \"A\", \"B\", \"C\"])"
   ]
  },
  {
   "cell_type": "code",
   "execution_count": 4,
   "metadata": {},
   "outputs": [
    {
     "data": {
      "image/png": "[encoded data removed]",
      "text/plain": [
       "<Figure size 640x480 with 1 Axes>"
      ]
     },
     "metadata": {},
     "output_type": "display_data"
    }
   ],
   "source": [
    "ax = df.plot(x=\"X\", y=[\"A\", \"B\", \"C\"], kind=\"bar\", rot=0)"
   ]
  },
  {
   "cell_type": "code",
   "execution_count": 5,
   "metadata": {},
   "outputs": [
    {
     "data": {
      "image/png": "[encoded data removed]",
      "text/plain": [
       "<Figure size 640x480 with 1 Axes>"
      ]
     },
     "metadata": {},
     "output_type": "display_data"
    }
   ],
   "source": [
    "ax = df.plot(x=\"X\", y=[\"A\", \"B\", \"C\"], kind=\"bar\", rot=0, stacked=True)\n",
    "_ = ax.legend(bbox_to_anchor=(1, 1.02), loc='upper left')"
   ]
  },
  {
   "cell_type": "code",
   "execution_count": 6,
   "metadata": {},
   "outputs": [
    {
     "data": {
      "image/png": "[encoded data removed]",
      "text/plain": [
       "<Figure size 640x480 with 1 Axes>"
      ]
     },
     "metadata": {},
     "output_type": "display_data"
    }
   ],
   "source": [
    "ax = df.plot(x=\"X\", y=\"A\", kind=\"bar\", rot=0)\n",
    "df.plot(x=\"X\", y=\"B\", kind=\"bar\", ax=ax, color=\"C2\", rot=0)\n",
    "df.plot(x=\"X\", y=\"C\", kind=\"bar\", ax=ax, color=\"C3\", rot=0)\n",
    "\n",
    "plt.show()"
   ]
  },
  {
   "cell_type": "code",
   "execution_count": 7,
   "metadata": {},
   "outputs": [
    {
     "data": {
      "text/plain": [
       "<Axes: xlabel='X'>"
      ]
     },
     "execution_count": 7,
     "metadata": {},
     "output_type": "execute_result"
    },
    {
     "data": {
      "image/png": "[encoded data removed]",
      "text/plain": [
       "<Figure size 640x480 with 1 Axes>"
      ]
     },
     "metadata": {},
     "output_type": "display_data"
    }
   ],
   "source": [
    "df[[\"X\", \"A\", \"B\", \"C\"]].plot(x=\"X\", kind=\"bar\")"
   ]
  },
  {
   "cell_type": "code",
   "execution_count": 4,
   "metadata": {},
   "outputs": [
    {
     "data": {
      "image/png": "[encoded data removed]",
      "text/plain": [
       "<Figure size 640x480 with 1 Axes>"
      ]
     },
     "metadata": {},
     "output_type": "display_data"
    }
   ],
   "source": [
    "# importing numpy as np\n",
    "import numpy as np\n",
    "\n",
    "# importing pyplot as plt\n",
    "import matplotlib.pyplot as plt\n",
    "\n",
    "# position\n",
    "pos = 0\n",
    "\n",
    "# scale\n",
    "scale = 10\n",
    "\n",
    "# size\n",
    "size = 10000\n",
    "\n",
    "\n",
    "# random seed\n",
    "np.random.seed(10)\n",
    "\n",
    "# creating a normal distribution data\n",
    "values = np.random.normal(pos, scale, size)\n",
    "\n",
    "# plotting histograph\n",
    "plt.hist(values, 100)\n",
    "\n",
    "# plotting mean line\n",
    "plt.axvline(values.mean(), color='k', linestyle='dashed', linewidth=2)\n",
    "\n",
    "# showing the plot\n",
    "plt.show()\n"
   ]
  },
  {
   "cell_type": "code",
   "execution_count": 6,
   "metadata": {},
   "outputs": [
    {
     "data": {
      "text/plain": [
       "<Axes: ylabel='Count'>"
      ]
     },
     "execution_count": 6,
     "metadata": {},
     "output_type": "execute_result"
    },
    {
     "data": {
      "image/png": "[encoded data removed]",
      "text/plain": [
       "<Figure size 640x480 with 1 Axes>"
      ]
     },
     "metadata": {},
     "output_type": "display_data"
    }
   ],
   "source": [
    "sns.histplot(values)"
   ]
  },
  {
   "cell_type": "code",
   "execution_count": 9,
   "metadata": {},
   "outputs": [
    {
     "data": {
      "text/plain": [
       "4946"
      ]
     },
     "execution_count": 9,
     "metadata": {},
     "output_type": "execute_result"
    }
   ],
   "source": [
    "len(values[values < 0])"
   ]
  },
  {
   "cell_type": "code",
   "execution_count": 5,
   "metadata": {},
   "outputs": [
    {
     "name": "stderr",
     "output_type": "stream",
     "text": [
      "C:\\Users\\solat\\AppData\\Local\\Temp\\ipykernel_10248\\1053519759.py:1: RuntimeWarning: invalid value encountered in log\n",
      "  log_val = np.log(values)\n"
     ]
    },
    {
     "data": {
      "text/plain": [
       "<Axes: ylabel='Count'>"
      ]
     },
     "execution_count": 5,
     "metadata": {},
     "output_type": "execute_result"
    },
    {
     "data": {
      "image/png": "[encoded data removed]",
      "text/plain": [
       "<Figure size 640x480 with 1 Axes>"
      ]
     },
     "metadata": {},
     "output_type": "display_data"
    }
   ],
   "source": [
    "log_val = np.log(values)\n",
    "sns.histplot(log_val)"
   ]
  },
  {
   "cell_type": "code",
   "execution_count": 10,
   "metadata": {},
   "outputs": [
    {
     "data": {
      "image/png": "[encoded data removed]",
      "text/plain": [
       "<Figure size 640x480 with 1 Axes>"
      ]
     },
     "metadata": {},
     "output_type": "display_data"
    }
   ],
   "source": [
    "## setting the seed for the random generation\n",
    "np.random.seed(1)\n",
    "\n",
    "## generating univariate data\n",
    "data = 10 * np.random.randn(1000) + 100\n",
    "\n",
    "## plotting the data\n",
    "plt.hist(data)\n",
    "plt.show()"
   ]
  },
  {
   "cell_type": "code",
   "execution_count": 13,
   "metadata": {},
   "outputs": [
    {
     "data": {
      "text/plain": [
       "<Axes: ylabel='Count'>"
      ]
     },
     "execution_count": 13,
     "metadata": {},
     "output_type": "execute_result"
    },
    {
     "data": {
      "image/png": "[encoded data removed]",
      "text/plain": [
       "<Figure size 640x480 with 1 Axes>"
      ]
     },
     "metadata": {},
     "output_type": "display_data"
    }
   ],
   "source": [
    "sns.histplot(data)"
   ]
  },
  {
   "cell_type": "code",
   "execution_count": 11,
   "metadata": {},
   "outputs": [
    {
     "data": {
      "text/plain": [
       "array([], dtype=float64)"
      ]
     },
     "execution_count": 11,
     "metadata": {},
     "output_type": "execute_result"
    }
   ],
   "source": [
    "data[data<0]"
   ]
  },
  {
   "cell_type": "code",
   "execution_count": 12,
   "metadata": {},
   "outputs": [
    {
     "data": {
      "text/plain": [
       "<Axes: ylabel='Count'>"
      ]
     },
     "execution_count": 12,
     "metadata": {},
     "output_type": "execute_result"
    },
    {
     "data": {
      "image/png": "[encoded data removed]",
      "text/plain": [
       "<Figure size 640x480 with 1 Axes>"
      ]
     },
     "metadata": {},
     "output_type": "display_data"
    }
   ],
   "source": [
    "log_d = np.log(data)\n",
    "sns.histplot(log_d)"
   ]
  },
  {
   "cell_type": "code",
   "execution_count": 20,
   "metadata": {},
   "outputs": [
    {
     "data": {
      "text/plain": [
       "(1000,)"
      ]
     },
     "execution_count": 20,
     "metadata": {},
     "output_type": "execute_result"
    }
   ],
   "source": [
    "# plt.axvline(values.mean(), color='k', linestyle='dashed', linewidth=2)\n",
    "data.shape"
   ]
  },
  {
   "cell_type": "code",
   "execution_count": 50,
   "metadata": {},
   "outputs": [],
   "source": [
    "def ff():\n",
    "    return pd.DataFrame(data).skew()\n",
    "\n"
   ]
  },
  {
   "cell_type": "code",
   "execution_count": 59,
   "metadata": {},
   "outputs": [
    {
     "ename": "TypeError",
     "evalue": "text() missing 3 required positional arguments: 'x', 'y', and 's'",
     "output_type": "error",
     "traceback": [
      "\u001b[1;31m---------------------------------------------------------------------------\u001b[0m",
      "\u001b[1;31mTypeError\u001b[0m                                 Traceback (most recent call last)",
      "Cell \u001b[1;32mIn[59], line 12\u001b[0m\n\u001b[0;32m      8\u001b[0m plt\u001b[38;5;241m.\u001b[39maxvline(log_d\u001b[38;5;241m.\u001b[39mmean(),color\u001b[38;5;241m=\u001b[39m\u001b[38;5;124m'\u001b[39m\u001b[38;5;124mk\u001b[39m\u001b[38;5;124m'\u001b[39m,linestyle\u001b[38;5;241m=\u001b[39m\u001b[38;5;124m'\u001b[39m\u001b[38;5;124mdashed\u001b[39m\u001b[38;5;124m'\u001b[39m,linewidth\u001b[38;5;241m=\u001b[39m\u001b[38;5;241m3\u001b[39m)\n\u001b[0;32m      9\u001b[0m \u001b[38;5;66;03m# patches = ax.patches \u001b[39;00m\n\u001b[0;32m     10\u001b[0m \u001b[38;5;66;03m# h = patches.get_height()\u001b[39;00m\n\u001b[0;32m     11\u001b[0m \u001b[38;5;66;03m# w = patches.get_width()\u001b[39;00m\n\u001b[1;32m---> 12\u001b[0m \u001b[43max\u001b[49m\u001b[38;5;241;43m.\u001b[39;49m\u001b[43mtext\u001b[49m\u001b[43m(\u001b[49m\u001b[43mxy\u001b[49m\u001b[38;5;241;43m=\u001b[39;49m\u001b[43m(\u001b[49m\u001b[38;5;241;43m0\u001b[39;49m\u001b[43m,\u001b[49m\u001b[38;5;241;43m0\u001b[39;49m\u001b[43m)\u001b[49m\u001b[43m)\u001b[49m\n",
      "\u001b[1;31mTypeError\u001b[0m: text() missing 3 required positional arguments: 'x', 'y', and 's'"
     ]
    },
    {
     "data": {
      "image/png": "[encoded data removed]",
      "text/plain": [
       "<Figure size 1200x700 with 1 Axes>"
      ]
     },
     "metadata": {},
     "output_type": "display_data"
    }
   ],
   "source": [
    "fig, ax = plt.subplots(figsize=(12,7))\n",
    "# plt.figure()\n",
    "# plt.subplot(1,2,1)\n",
    "sns.histplot(data)\n",
    "plt.axvline(data.mean(),color='k',linestyle='dashed')\n",
    "# plt.subplot(1,2,2)\n",
    "sns.histplot(log_d)\n",
    "plt.axvline(log_d.mean(),color='k',linestyle='dashed',linewidth=3)\n",
    "# patches = ax.patches \n",
    "# h = patches.get_height()\n",
    "# w = patches.get_width()\n",
    "ax.text()"
   ]
  },
  {
   "cell_type": "code",
   "execution_count": 17,
   "metadata": {},
   "outputs": [
    {
     "data": {
      "text/plain": [
       "0   -0.068455\n",
       "dtype: float64"
      ]
     },
     "execution_count": 17,
     "metadata": {},
     "output_type": "execute_result"
    }
   ],
   "source": [
    "pd.DataFrame(data).skew()"
   ]
  },
  {
   "cell_type": "code",
   "execution_count": 19,
   "metadata": {},
   "outputs": [
    {
     "data": {
      "text/plain": [
       "0   -0.400726\n",
       "dtype: float64"
      ]
     },
     "execution_count": 19,
     "metadata": {},
     "output_type": "execute_result"
    }
   ],
   "source": [
    "pd.DataFrame(log_d).skew()"
   ]
  },
  {
   "cell_type": "code",
   "execution_count": 78,
   "metadata": {},
   "outputs": [
    {
     "data": {
      "text/plain": [
       "Text(0.75, 0.75, '0   -0.068455\\ndtype: float64 Skew')"
      ]
     },
     "execution_count": 78,
     "metadata": {},
     "output_type": "execute_result"
    },
    {
     "data": {
      "image/png": "[encoded data removed]",
      "text/plain": [
       "<Figure size 1200x700 with 3 Axes>"
      ]
     },
     "metadata": {},
     "output_type": "display_data"
    }
   ],
   "source": [
    "import matplotlib.patches as patches\n",
    "\n",
    "# build a rectangle in axes coords\n",
    "left, width = .25, .5\n",
    "bottom, height = .25, .5\n",
    "right = left + width\n",
    "top = bottom + height\n",
    "\n",
    "fig , ax = plt.subplots(1,2,figsize=(12,7))\n",
    "ax = fig.add_axes([0, 0, 1, 1])\n",
    "\n",
    "# plt.subplots(1,2,figsize=(12,7))\n",
    "# plt.subplot(1,2,1)\n",
    "sns.histplot(data)\n",
    "plt.axvline(data.mean(),color='k',linestyle='dashed')\n",
    "# plt.subplot(1,2,2)\n",
    "# sns.histplot(log_d)\n",
    "# plt.axvline(log_d.mean(),color='k',linestyle='dashed',linewidth=3)\n",
    "\n",
    "p = patches.Rectangle(\n",
    "    (left, bottom), width, height,\n",
    "    fill=False, transform=ax.transAxes, clip_on=False\n",
    "    )\n",
    "ax.text(right, top, f\"{ff()} Skew\",\n",
    "        horizontalalignment='left',\n",
    "        verticalalignment='top',\n",
    "        transform=ax.transAxes)"
   ]
  },
  {
   "cell_type": "code",
   "execution_count": 33,
   "metadata": {},
   "outputs": [
    {
     "data": {
      "image/png": "[encoded data removed]",
      "text/plain": [
       "<Figure size 300x300 with 1 Axes>"
      ]
     },
     "metadata": {},
     "output_type": "display_data"
    }
   ],
   "source": [
    "fig, ax = plt.subplots(figsize=(3, 3))\n",
    "\n",
    "t1 = ax.text(0.05, .05, \"Text 1\", va='bottom', ha='left')\n",
    "t2 = ax.text(0.90, .90, \"Text 2\", ha='right')\n",
    "t3 = ax.annotate(\"Anchored to 1 & 2\", xy=(0, 0), xycoords=(t1, t2),\n",
    "                 va='bottom', color='tab:orange',)"
   ]
  },
  {
   "cell_type": "code",
   "execution_count": null,
   "metadata": {},
   "outputs": [],
   "source": [
    "# right and top ? \n",
    "left1 , width1 = 0.25 , 0.5 \n",
    "bottom1 , height1 = 0.25 , 0.5 \n",
    "right1 = left1 + width1 \n",
    "top1 = bottom1 + height1 \n",
    "\n",
    "\n",
    "\n"
   ]
  },
  {
   "cell_type": "code",
   "execution_count": 197,
   "metadata": {},
   "outputs": [
    {
     "data": {
      "text/plain": [
       "Text(0.85, 0.92, '0   -0.068455\\ndtype: float64')"
      ]
     },
     "execution_count": 197,
     "metadata": {},
     "output_type": "execute_result"
    },
    {
     "data": {
      "image/png": "[encoded data removed]",
      "text/plain": [
       "<Figure size 640x480 with 4 Axes>"
      ]
     },
     "metadata": {},
     "output_type": "display_data"
    }
   ],
   "source": [
    "fig, ax = plt.subplots()\n",
    "\n",
    "ax = fig.add_axes([0,0,1,1])\n",
    "\n",
    "plt.subplot(1,2,1)\n",
    "sns.histplot(data)\n",
    "\n",
    "plt.subplot(1,2,2)\n",
    "sns.histplot(log_d)\n",
    "\n",
    "l,w = 0.25 , 0.6\n",
    "b,h = 0.25 , 0.67\n",
    "r = l+w \n",
    "t = b + h \n",
    "\n",
    "ax.text(r,t,ff())"
   ]
  },
  {
   "cell_type": "code",
   "execution_count": 195,
   "metadata": {},
   "outputs": [
    {
     "data": {
      "text/plain": [
       "Text(0.75, 0.92, '0   -0.068455\\ndtype: float64')"
      ]
     },
     "execution_count": 195,
     "metadata": {},
     "output_type": "execute_result"
    },
    {
     "data": {
      "image/png": "[encoded data removed]",
      "text/plain": [
       "<Figure size 1200x700 with 3 Axes>"
      ]
     },
     "metadata": {},
     "output_type": "display_data"
    }
   ],
   "source": [
    "l,w = 0.25 , 0.5\n",
    "b,h = 0.25 , 0.67\n",
    "r = l+w \n",
    "t = b + h \n",
    "plt.subplots(figsize=(12,7)) # fig , ax is not used \n",
    "ax = fig.add_axes([0,0,1,1])\n",
    "\n",
    "plt.subplot(1,2,1)\n",
    "sns.histplot(data)\n",
    "plt.subplot(1,2,2)\n",
    "sns.histplot(log_d)\n",
    "\n",
    "ax.text(r,t,ff())\n"
   ]
  },
  {
   "cell_type": "code",
   "execution_count": 319,
   "metadata": {},
   "outputs": [
    {
     "data": {
      "text/plain": [
       "Text(0.35, 130, '0   -0.068455\\ndtype: float64')"
      ]
     },
     "execution_count": 319,
     "metadata": {},
     "output_type": "execute_result"
    },
    {
     "data": {
      "image/png": "[encoded data removed]",
      "text/plain": [
       "<Figure size 1500x800 with 3 Axes>"
      ]
     },
     "metadata": {},
     "output_type": "display_data"
    }
   ],
   "source": [
    "plt.figure(figsize=(15,8))\n",
    "plt.subplot(1,3,1)\n",
    "sns.histplot(data)\n",
    "plt.text(120,110,f\"{ff()} skew\",fontsize=8)\n",
    "plt.subplot(1,3,2)\n",
    "sns.histplot(log_d)\n",
    "plt.text(4.5,110,ff())\n",
    "plt.subplot(1,3,3)\n",
    "sns.boxplot(data)\n",
    "plt.text(0.35,130,ff())"
   ]
  },
  {
   "cell_type": "code",
   "execution_count": 2,
   "metadata": {},
   "outputs": [
    {
     "data": {
      "text/plain": [
       "array([[7, 8, 8, 4, 5],\n",
       "       [4, 4, 9, 7, 6],\n",
       "       [7, 9, 4, 2, 2],\n",
       "       [4, 5, 4, 8, 2],\n",
       "       [3, 4, 9, 9, 5]])"
      ]
     },
     "execution_count": 2,
     "metadata": {},
     "output_type": "execute_result"
    }
   ],
   "source": [
    "az = np.random.randint(1,10,(5,5))\n",
    "az"
   ]
  },
  {
   "cell_type": "code",
   "execution_count": 4,
   "metadata": {},
   "outputs": [
    {
     "data": {
      "text/plain": [
       "array([[7, 8, 8, 4],\n",
       "       [4, 4, 9, 7],\n",
       "       [7, 9, 4, 2],\n",
       "       [4, 5, 4, 8],\n",
       "       [3, 4, 9, 9]])"
      ]
     },
     "execution_count": 4,
     "metadata": {},
     "output_type": "execute_result"
    }
   ],
   "source": [
    "az[:,:-1]"
   ]
  },
  {
   "cell_type": "code",
   "execution_count": 8,
   "metadata": {},
   "outputs": [
    {
     "data": {
      "text/plain": [
       "array([5, 6, 2, 2, 5])"
      ]
     },
     "execution_count": 8,
     "metadata": {},
     "output_type": "execute_result"
    }
   ],
   "source": [
    "az[:,-1]"
   ]
  },
  {
   "cell_type": "code",
   "execution_count": 23,
   "metadata": {},
   "outputs": [],
   "source": [
    "d = {\n",
    "    \"a\" : 1,\n",
    "    \"b\" : 6,\n",
    "    \"c\" : 3\n",
    "}"
   ]
  },
  {
   "cell_type": "code",
   "execution_count": 25,
   "metadata": {},
   "outputs": [
    {
     "name": "stdout",
     "output_type": "stream",
     "text": [
      "b\n"
     ]
    }
   ],
   "source": [
    "for key in d:\n",
    "    if d[key] == max(d.values()):\n",
    "        print(key)"
   ]
  },
  {
   "cell_type": "code",
   "execution_count": 24,
   "metadata": {},
   "outputs": [
    {
     "data": {
      "text/plain": [
       "6"
      ]
     },
     "execution_count": 24,
     "metadata": {},
     "output_type": "execute_result"
    }
   ],
   "source": [
    "max(list(d.values()))"
   ]
  },
  {
   "cell_type": "code",
   "execution_count": 11,
   "metadata": {},
   "outputs": [
    {
     "name": "stdout",
     "output_type": "stream",
     "text": [
      "1\n",
      "2\n",
      "3\n"
     ]
    }
   ],
   "source": [
    "for i in range(len(list(d.keys()))):\n",
    "    model = list(d.values())[i]\n",
    "    print(model)"
   ]
  },
  {
   "cell_type": "code",
   "execution_count": 16,
   "metadata": {},
   "outputs": [
    {
     "data": {
      "text/plain": [
       "{'a': {'a': 1}, 'b': {'b': 2}, 'c': {'c': 3}}"
      ]
     },
     "execution_count": 16,
     "metadata": {},
     "output_type": "execute_result"
    }
   ],
   "source": [
    "dd = {}\n",
    "for i in range(len(list(d.keys()))):\n",
    "    dd3 = {}\n",
    "    dd3[list(d.keys())[i]] = list(d.values())[i]\n",
    "    dd[list(d.keys())[i]] = dd3\n",
    "dd"
   ]
  },
  {
   "cell_type": "code",
   "execution_count": 71,
   "metadata": {},
   "outputs": [],
   "source": [
    "d4 = {\n",
    "    \"de\" : {\"asd\" : [123,111], \"dfgh\" : 120000},\n",
    "    \"we\" : {\"qwe\" : 4456},\n",
    "    \"ze\" : {\"zxc\" : 7789}\n",
    "}"
   ]
  },
  {
   "cell_type": "code",
   "execution_count": 72,
   "metadata": {},
   "outputs": [
    {
     "data": {
      "text/plain": [
       "dict_values([{'asd': [123, 111], 'dfgh': 120000}, {'qwe': 4456}, {'zxc': 7789}])"
      ]
     },
     "execution_count": 72,
     "metadata": {},
     "output_type": "execute_result"
    }
   ],
   "source": [
    "inner_d = d4.values()\n",
    "inner_d\n"
   ]
  },
  {
   "cell_type": "code",
   "execution_count": 73,
   "metadata": {},
   "outputs": [
    {
     "data": {
      "text/plain": [
       "{'asd': [123, 111], 'dfgh': 120000}"
      ]
     },
     "execution_count": 73,
     "metadata": {},
     "output_type": "execute_result"
    }
   ],
   "source": [
    "inner_dict_copy = list(inner_d)[0]\n",
    "inner_dict_copy"
   ]
  },
  {
   "cell_type": "code",
   "execution_count": 75,
   "metadata": {},
   "outputs": [
    {
     "data": {
      "text/plain": [
       "{'de': {'asd': [123, 111], 'dfgh': 120000},\n",
       " 'we': {'qwe': 4456},\n",
       " 'ze': {'zxc': 7789}}"
      ]
     },
     "execution_count": 75,
     "metadata": {},
     "output_type": "execute_result"
    }
   ],
   "source": [
    "di = {\"innnn\" : {\"dsfdsf\" : 546871321654}}\n",
    "\n",
    "dd4 = {}\n",
    "for i in range(len(list(d4.keys()))):\n",
    "    dd5 = {}\n",
    "    inner_dict = list(d4.values())[i]\n",
    "    for j in range(len(list(inner_dict.keys()))):\n",
    "        \n",
    "        dd5[list(inner_dict.keys())[j]] = list(inner_dict.values())[j]\n",
    "\n",
    "        dd4[list(d4.keys())[i]] = dd5\n",
    "\n",
    "dd4\n"
   ]
  },
  {
   "cell_type": "code",
   "execution_count": null,
   "metadata": {},
   "outputs": [],
   "source": [
    "aqz = {\"sss\" : {}}"
   ]
  },
  {
   "cell_type": "code",
   "execution_count": 1,
   "metadata": {},
   "outputs": [],
   "source": [
    "import pandas as pd \n",
    "import numpy as np "
   ]
  },
  {
   "cell_type": "code",
   "execution_count": 2,
   "metadata": {},
   "outputs": [
    {
     "data": {
      "text/html": [
       "<div>\n",
       "<style scoped>\n",
       "    .dataframe tbody tr th:only-of-type {\n",
       "        vertical-align: middle;\n",
       "    }\n",
       "\n",
       "    .dataframe tbody tr th {\n",
       "        vertical-align: top;\n",
       "    }\n",
       "\n",
       "    .dataframe thead th {\n",
       "        text-align: right;\n",
       "    }\n",
       "</style>\n",
       "<table border=\"1\" class=\"dataframe\">\n",
       "  <thead>\n",
       "    <tr style=\"text-align: right;\">\n",
       "      <th></th>\n",
       "      <th>market_id</th>\n",
       "      <th>store_id</th>\n",
       "      <th>order_protocol</th>\n",
       "      <th>total_items</th>\n",
       "      <th>subtotal</th>\n",
       "      <th>num_distinct_items</th>\n",
       "      <th>total_onshift_dashers</th>\n",
       "      <th>total_busy_dashers</th>\n",
       "      <th>total_outstanding_orders</th>\n",
       "      <th>estimated_order_place_duration</th>\n",
       "      <th>estimated_store_to_consumer_driving_duration</th>\n",
       "      <th>delivery_time</th>\n",
       "      <th>non_null_primary_category</th>\n",
       "      <th>time</th>\n",
       "    </tr>\n",
       "  </thead>\n",
       "  <tbody>\n",
       "    <tr>\n",
       "      <th>0</th>\n",
       "      <td>1.0</td>\n",
       "      <td>1845</td>\n",
       "      <td>1.0</td>\n",
       "      <td>4</td>\n",
       "      <td>3441</td>\n",
       "      <td>4</td>\n",
       "      <td>33.0</td>\n",
       "      <td>14.0</td>\n",
       "      <td>21.0</td>\n",
       "      <td>446</td>\n",
       "      <td>861.0</td>\n",
       "      <td>3779.0</td>\n",
       "      <td>american</td>\n",
       "      <td>22</td>\n",
       "    </tr>\n",
       "    <tr>\n",
       "      <th>1</th>\n",
       "      <td>2.0</td>\n",
       "      <td>5477</td>\n",
       "      <td>2.0</td>\n",
       "      <td>1</td>\n",
       "      <td>1900</td>\n",
       "      <td>1</td>\n",
       "      <td>1.0</td>\n",
       "      <td>2.0</td>\n",
       "      <td>2.0</td>\n",
       "      <td>446</td>\n",
       "      <td>690.0</td>\n",
       "      <td>4024.0</td>\n",
       "      <td>indian</td>\n",
       "      <td>21</td>\n",
       "    </tr>\n",
       "    <tr>\n",
       "      <th>2</th>\n",
       "      <td>2.0</td>\n",
       "      <td>5477</td>\n",
       "      <td>3.0</td>\n",
       "      <td>4</td>\n",
       "      <td>4771</td>\n",
       "      <td>3</td>\n",
       "      <td>8.0</td>\n",
       "      <td>6.0</td>\n",
       "      <td>18.0</td>\n",
       "      <td>446</td>\n",
       "      <td>289.0</td>\n",
       "      <td>1586.0</td>\n",
       "      <td>indian</td>\n",
       "      <td>0</td>\n",
       "    </tr>\n",
       "    <tr>\n",
       "      <th>3</th>\n",
       "      <td>1.0</td>\n",
       "      <td>2841</td>\n",
       "      <td>1.0</td>\n",
       "      <td>1</td>\n",
       "      <td>1525</td>\n",
       "      <td>1</td>\n",
       "      <td>5.0</td>\n",
       "      <td>6.0</td>\n",
       "      <td>8.0</td>\n",
       "      <td>446</td>\n",
       "      <td>795.0</td>\n",
       "      <td>2273.0</td>\n",
       "      <td>italian</td>\n",
       "      <td>3</td>\n",
       "    </tr>\n",
       "    <tr>\n",
       "      <th>4</th>\n",
       "      <td>1.0</td>\n",
       "      <td>2841</td>\n",
       "      <td>1.0</td>\n",
       "      <td>2</td>\n",
       "      <td>3620</td>\n",
       "      <td>2</td>\n",
       "      <td>5.0</td>\n",
       "      <td>5.0</td>\n",
       "      <td>7.0</td>\n",
       "      <td>446</td>\n",
       "      <td>205.0</td>\n",
       "      <td>2988.0</td>\n",
       "      <td>italian</td>\n",
       "      <td>2</td>\n",
       "    </tr>\n",
       "    <tr>\n",
       "      <th>...</th>\n",
       "      <td>...</td>\n",
       "      <td>...</td>\n",
       "      <td>...</td>\n",
       "      <td>...</td>\n",
       "      <td>...</td>\n",
       "      <td>...</td>\n",
       "      <td>...</td>\n",
       "      <td>...</td>\n",
       "      <td>...</td>\n",
       "      <td>...</td>\n",
       "      <td>...</td>\n",
       "      <td>...</td>\n",
       "      <td>...</td>\n",
       "      <td>...</td>\n",
       "    </tr>\n",
       "    <tr>\n",
       "      <th>172891</th>\n",
       "      <td>1.0</td>\n",
       "      <td>2956</td>\n",
       "      <td>4.0</td>\n",
       "      <td>3</td>\n",
       "      <td>1389</td>\n",
       "      <td>3</td>\n",
       "      <td>17.0</td>\n",
       "      <td>17.0</td>\n",
       "      <td>23.0</td>\n",
       "      <td>251</td>\n",
       "      <td>331.0</td>\n",
       "      <td>3907.0</td>\n",
       "      <td>fast</td>\n",
       "      <td>0</td>\n",
       "    </tr>\n",
       "    <tr>\n",
       "      <th>172892</th>\n",
       "      <td>1.0</td>\n",
       "      <td>2956</td>\n",
       "      <td>4.0</td>\n",
       "      <td>6</td>\n",
       "      <td>3010</td>\n",
       "      <td>4</td>\n",
       "      <td>12.0</td>\n",
       "      <td>11.0</td>\n",
       "      <td>14.0</td>\n",
       "      <td>251</td>\n",
       "      <td>915.0</td>\n",
       "      <td>3383.0</td>\n",
       "      <td>fast</td>\n",
       "      <td>0</td>\n",
       "    </tr>\n",
       "    <tr>\n",
       "      <th>172893</th>\n",
       "      <td>1.0</td>\n",
       "      <td>2956</td>\n",
       "      <td>4.0</td>\n",
       "      <td>5</td>\n",
       "      <td>1836</td>\n",
       "      <td>3</td>\n",
       "      <td>39.0</td>\n",
       "      <td>41.0</td>\n",
       "      <td>40.0</td>\n",
       "      <td>251</td>\n",
       "      <td>795.0</td>\n",
       "      <td>3008.0</td>\n",
       "      <td>fast</td>\n",
       "      <td>4</td>\n",
       "    </tr>\n",
       "    <tr>\n",
       "      <th>172894</th>\n",
       "      <td>1.0</td>\n",
       "      <td>3630</td>\n",
       "      <td>1.0</td>\n",
       "      <td>1</td>\n",
       "      <td>1175</td>\n",
       "      <td>1</td>\n",
       "      <td>7.0</td>\n",
       "      <td>7.0</td>\n",
       "      <td>12.0</td>\n",
       "      <td>446</td>\n",
       "      <td>384.0</td>\n",
       "      <td>3907.0</td>\n",
       "      <td>sandwich</td>\n",
       "      <td>18</td>\n",
       "    </tr>\n",
       "    <tr>\n",
       "      <th>172895</th>\n",
       "      <td>1.0</td>\n",
       "      <td>3630</td>\n",
       "      <td>1.0</td>\n",
       "      <td>4</td>\n",
       "      <td>2605</td>\n",
       "      <td>4</td>\n",
       "      <td>20.0</td>\n",
       "      <td>20.0</td>\n",
       "      <td>23.0</td>\n",
       "      <td>446</td>\n",
       "      <td>134.0</td>\n",
       "      <td>2228.0</td>\n",
       "      <td>sandwich</td>\n",
       "      <td>19</td>\n",
       "    </tr>\n",
       "  </tbody>\n",
       "</table>\n",
       "<p>172896 rows × 14 columns</p>\n",
       "</div>"
      ],
      "text/plain": [
       "        market_id  store_id  order_protocol  total_items  subtotal  \\\n",
       "0             1.0      1845             1.0            4      3441   \n",
       "1             2.0      5477             2.0            1      1900   \n",
       "2             2.0      5477             3.0            4      4771   \n",
       "3             1.0      2841             1.0            1      1525   \n",
       "4             1.0      2841             1.0            2      3620   \n",
       "...           ...       ...             ...          ...       ...   \n",
       "172891        1.0      2956             4.0            3      1389   \n",
       "172892        1.0      2956             4.0            6      3010   \n",
       "172893        1.0      2956             4.0            5      1836   \n",
       "172894        1.0      3630             1.0            1      1175   \n",
       "172895        1.0      3630             1.0            4      2605   \n",
       "\n",
       "        num_distinct_items  total_onshift_dashers  total_busy_dashers  \\\n",
       "0                        4                   33.0                14.0   \n",
       "1                        1                    1.0                 2.0   \n",
       "2                        3                    8.0                 6.0   \n",
       "3                        1                    5.0                 6.0   \n",
       "4                        2                    5.0                 5.0   \n",
       "...                    ...                    ...                 ...   \n",
       "172891                   3                   17.0                17.0   \n",
       "172892                   4                   12.0                11.0   \n",
       "172893                   3                   39.0                41.0   \n",
       "172894                   1                    7.0                 7.0   \n",
       "172895                   4                   20.0                20.0   \n",
       "\n",
       "        total_outstanding_orders  estimated_order_place_duration  \\\n",
       "0                           21.0                             446   \n",
       "1                            2.0                             446   \n",
       "2                           18.0                             446   \n",
       "3                            8.0                             446   \n",
       "4                            7.0                             446   \n",
       "...                          ...                             ...   \n",
       "172891                      23.0                             251   \n",
       "172892                      14.0                             251   \n",
       "172893                      40.0                             251   \n",
       "172894                      12.0                             446   \n",
       "172895                      23.0                             446   \n",
       "\n",
       "        estimated_store_to_consumer_driving_duration  delivery_time  \\\n",
       "0                                              861.0         3779.0   \n",
       "1                                              690.0         4024.0   \n",
       "2                                              289.0         1586.0   \n",
       "3                                              795.0         2273.0   \n",
       "4                                              205.0         2988.0   \n",
       "...                                              ...            ...   \n",
       "172891                                         331.0         3907.0   \n",
       "172892                                         915.0         3383.0   \n",
       "172893                                         795.0         3008.0   \n",
       "172894                                         384.0         3907.0   \n",
       "172895                                         134.0         2228.0   \n",
       "\n",
       "       non_null_primary_category  time  \n",
       "0                       american    22  \n",
       "1                         indian    21  \n",
       "2                         indian     0  \n",
       "3                        italian     3  \n",
       "4                        italian     2  \n",
       "...                          ...   ...  \n",
       "172891                      fast     0  \n",
       "172892                      fast     0  \n",
       "172893                      fast     4  \n",
       "172894                  sandwich    18  \n",
       "172895                  sandwich    19  \n",
       "\n",
       "[172896 rows x 14 columns]"
      ]
     },
     "execution_count": 2,
     "metadata": {},
     "output_type": "execute_result"
    }
   ],
   "source": [
    "data = pd.read_csv('../dataset/final_doordash.csv')\n",
    "data\n"
   ]
  },
  {
   "cell_type": "code",
   "execution_count": 3,
   "metadata": {},
   "outputs": [
    {
     "data": {
      "text/plain": [
       "Index(['market_id', 'store_id', 'order_protocol', 'total_items', 'subtotal',\n",
       "       'num_distinct_items', 'total_onshift_dashers', 'total_busy_dashers',\n",
       "       'total_outstanding_orders', 'estimated_order_place_duration',\n",
       "       'estimated_store_to_consumer_driving_duration', 'delivery_time',\n",
       "       'non_null_primary_category', 'time'],\n",
       "      dtype='object')"
      ]
     },
     "execution_count": 3,
     "metadata": {},
     "output_type": "execute_result"
    }
   ],
   "source": [
    "data.columns"
   ]
  },
  {
   "cell_type": "code",
   "execution_count": 4,
   "metadata": {},
   "outputs": [],
   "source": [
    "X = data.drop(\"delivery_time\",axis=1)\n",
    "y = data[\"delivery_time\"]"
   ]
  },
  {
   "cell_type": "code",
   "execution_count": 7,
   "metadata": {},
   "outputs": [
    {
     "name": "stdout",
     "output_type": "stream",
     "text": [
      "market_id,\n",
      "store_id,\n",
      "order_protocol,\n",
      "total_items,\n",
      "subtotal,\n",
      "num_distinct_items,\n",
      "total_onshift_dashers,\n",
      "total_busy_dashers,\n",
      "total_outstanding_orders,\n",
      "estimated_order_place_duration,\n",
      "estimated_store_to_consumer_driving_duration,\n",
      "non_null_primary_category,\n",
      "time,\n"
     ]
    }
   ],
   "source": [
    "for i in X.columns:\n",
    "    print(f\"{i},\")"
   ]
  },
  {
   "cell_type": "code",
   "execution_count": 5,
   "metadata": {},
   "outputs": [
    {
     "name": "stdout",
     "output_type": "stream",
     "text": [
      "self.market_id = market_id\n",
      "self.store_id = store_id\n",
      "self.order_protocol = order_protocol\n",
      "self.total_items = total_items\n",
      "self.subtotal = subtotal\n",
      "self.num_distinct_items = num_distinct_items\n",
      "self.total_onshift_dashers = total_onshift_dashers\n",
      "self.total_busy_dashers = total_busy_dashers\n",
      "self.total_outstanding_orders = total_outstanding_orders\n",
      "self.estimated_order_place_duration = estimated_order_place_duration\n",
      "self.estimated_store_to_consumer_driving_duration = estimated_store_to_consumer_driving_duration\n",
      "self.non_null_primary_category = non_null_primary_category\n",
      "self.time = time\n"
     ]
    }
   ],
   "source": [
    "for i in X.columns:\n",
    "    print(f\"self.{i} = {i}\")"
   ]
  },
  {
   "cell_type": "code",
   "execution_count": 11,
   "metadata": {},
   "outputs": [
    {
     "name": "stdout",
     "output_type": "stream",
     "text": [
      "'market_id' : [self.market_id],\n",
      "'store_id' : [self.store_id],\n",
      "'order_protocol' : [self.order_protocol],\n",
      "'total_items' : [self.total_items],\n",
      "'subtotal' : [self.subtotal],\n",
      "'num_distinct_items' : [self.num_distinct_items],\n",
      "'total_onshift_dashers' : [self.total_onshift_dashers],\n",
      "'total_busy_dashers' : [self.total_busy_dashers],\n",
      "'total_outstanding_orders' : [self.total_outstanding_orders],\n",
      "'estimated_order_place_duration' : [self.estimated_order_place_duration],\n",
      "'estimated_store_to_consumer_driving_duration' : [self.estimated_store_to_consumer_driving_duration],\n",
      "'non_null_primary_category' : [self.non_null_primary_category],\n",
      "'time' : [self.time],\n"
     ]
    }
   ],
   "source": [
    "for i in X.columns:\n",
    "    print(f\"'{i}' : [self.{i}],\")"
   ]
  },
  {
   "cell_type": "code",
   "execution_count": 15,
   "metadata": {},
   "outputs": [
    {
     "name": "stdout",
     "output_type": "stream",
     "text": [
      "faisal shaikh\n"
     ]
    }
   ],
   "source": [
    "class GG:\n",
    "    def __init__(self,n,l):\n",
    "        self.n = n \n",
    "        self.l = l \n",
    "        print(self.n , self.l)\n",
    "\n",
    "obj = GG(\"faisal\", \"shaikh\")\n",
    "# print(obj)"
   ]
  },
  {
   "cell_type": "code",
   "execution_count": 18,
   "metadata": {},
   "outputs": [
    {
     "name": "stdout",
     "output_type": "stream",
     "text": [
      "[1, 23, 4, 5, 6]\n",
      "It\n"
     ]
    }
   ],
   "source": [
    "l = [1,23,4,5,6]\n",
    "print(f\"{l}\\nIt\")"
   ]
  }
 ],
 "metadata": {
  "kernelspec": {
   "display_name": "Python 3",
   "language": "python",
   "name": "python3"
  },
  "language_info": {
   "codemirror_mode": {
    "name": "ipython",
    "version": 3
   },
   "file_extension": ".py",
   "mimetype": "text/x-python",
   "name": "python",
   "nbconvert_exporter": "python",
   "pygments_lexer": "ipython3",
   "version": "3.9.18"
  }
 },
 "nbformat": 4,
 "nbformat_minor": 2
}
